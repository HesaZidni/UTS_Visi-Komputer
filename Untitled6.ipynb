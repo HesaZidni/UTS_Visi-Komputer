{
  "nbformat": 4,
  "nbformat_minor": 0,
  "metadata": {
    "colab": {
      "provenance": [],
      "authorship_tag": "ABX9TyPoMbcr8eZUuuezHPh+uHsR",
      "include_colab_link": true
    },
    "kernelspec": {
      "name": "python3",
      "display_name": "Python 3"
    },
    "language_info": {
      "name": "python"
    }
  },
  "cells": [
    {
      "cell_type": "markdown",
      "metadata": {
        "id": "view-in-github",
        "colab_type": "text"
      },
      "source": [
        "<a href=\"https://colab.research.google.com/github/HesaZidni/UTS_Visi-Komputer/blob/main/Untitled6.ipynb\" target=\"_parent\"><img src=\"https://colab.research.google.com/assets/colab-badge.svg\" alt=\"Open In Colab\"/></a>"
      ]
    },
    {
      "cell_type": "code",
      "execution_count": null,
      "metadata": {
        "id": "R5pPQ7Lp2dzB"
      },
      "outputs": [],
      "source": [
        "import cv2\n",
        "import matplotlib.pyplot as plt\n",
        "import numpy as np\n",
        "\n",
        "# Upload gambar\n",
        "from google.colab import files\n",
        "uploaded = files.upload()\n",
        "\n",
        "# Load image\n",
        "for file in uploaded.keys():\n",
        "    img = cv2.imread(file)\n",
        "    break\n",
        "\n",
        "# Pra-pemrosesan\n",
        "gray = cv2.cvtColor(img, cv2.COLOR_BGR2GRAY)\n",
        "blurred = cv2.GaussianBlur(gray, (5, 5), 0)\n",
        "_, thresh = cv2.threshold(blurred, 120, 255, cv2.THRESH_BINARY_INV)\n",
        "\n",
        "# Operasi morfologi\n",
        "kernel = cv2.getStructuringElement(cv2.MORPH_RECT, (15, 3))\n",
        "morphed = cv2.morphologyEx(thresh, cv2.MORPH_CLOSE, kernel)\n",
        "\n",
        "# Deteksi kontur\n",
        "contours, _ = cv2.findContours(morphed, cv2.RETR_EXTERNAL, cv2.CHAIN_APPROX_SIMPLE)\n",
        "output = img.copy()\n",
        "for cnt in contours:\n",
        "    x, y, w, h = cv2.boundingRect(cnt)\n",
        "    aspect_ratio = w / float(h)\n",
        "    if 2 < aspect_ratio < 6:  # Biasanya plat nomor memiliki rasio ini\n",
        "        cv2.rectangle(output, (x, y), (x+w, y+h), (0, 255, 0), 2)\n",
        "\n",
        "# Tampilkan hasil\n",
        "plt.figure(figsize=(10,5))\n",
        "plt.imshow(cv2.cvtColor(output, cv2.COLOR_BGR2RGB))\n",
        "plt.title(\"Hasil Ekstraksi Plat Nomor\")\n",
        "plt.axis(\"off\")\n",
        "plt.show()\n"
      ]
    }
  ]
}